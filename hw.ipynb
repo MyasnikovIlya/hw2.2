{
 "cells": [
  {
   "cell_type": "markdown",
   "metadata": {},
   "source": [
    "# Surprise homework"
   ]
  },
  {
   "cell_type": "code",
   "execution_count": 8,
   "metadata": {},
   "outputs": [],
   "source": [
    "import io \n",
    "import pandas as pd\n",
    "from collections import defaultdict\n",
    "from surprise import Dataset\n",
    "from surprise import NormalPredictor\n",
    "from surprise import SVD\n",
    "from surprise import KNNBasic\n",
    "from surprise import get_dataset_dir\n",
    "from surprise.model_selection import cross_validate\n",
    "from surprise.model_selection import train_test_split\n"
   ]
  },
  {
   "cell_type": "code",
   "execution_count": 2,
   "metadata": {},
   "outputs": [],
   "source": [
    "data = Dataset.load_builtin('ml-100k')\n",
    "K = 30\n",
    "trainset, testset = train_test_split(data, test_size=.25)"
   ]
  },
  {
   "cell_type": "code",
   "execution_count": 3,
   "metadata": {},
   "outputs": [],
   "source": [
    "algorithms = {\n",
    "    \"NP\": NormalPredictor(),\n",
    "    \"KNN_cos\": KNNBasic(k = K, sim_options = { 'name': 'cosine' }),\n",
    "    \"KNN_MSD\": KNNBasic(k = K),\n",
    "    \"KNN_Pearson\": KNNBasic(k = K, sim_options = { 'name': 'pearson' }),\n",
    "    \"SVD\" : SVD()\n",
    "}\n",
    "RSMA = {}"
   ]
  },
  {
   "cell_type": "code",
   "execution_count": 4,
   "metadata": {},
   "outputs": [
    {
     "output_type": "stream",
     "name": "stdout",
     "text": [
      "Evaluating RMSE of algorithm NormalPredictor on 5 split(s).\n",
      "\n",
      "                  Fold 1  Fold 2  Fold 3  Fold 4  Fold 5  Mean    Std     \n",
      "RMSE (testset)    1.5114  1.5182  1.5106  1.5218  1.5249  1.5174  0.0056  \n",
      "Fit time          0.11    0.14    0.15    0.18    0.12    0.14    0.02    \n",
      "Test time         0.17    0.12    0.15    0.15    0.10    0.14    0.02    \n",
      "Computing the cosine similarity matrix...\n",
      "Done computing similarity matrix.\n",
      "Computing the cosine similarity matrix...\n",
      "Done computing similarity matrix.\n",
      "Computing the cosine similarity matrix...\n",
      "Done computing similarity matrix.\n",
      "Computing the cosine similarity matrix...\n",
      "Done computing similarity matrix.\n",
      "Computing the cosine similarity matrix...\n",
      "Done computing similarity matrix.\n",
      "Evaluating RMSE of algorithm KNNBasic on 5 split(s).\n",
      "\n",
      "                  Fold 1  Fold 2  Fold 3  Fold 4  Fold 5  Mean    Std     \n",
      "RMSE (testset)    1.0243  1.0123  1.0135  1.0193  1.0274  1.0194  0.0059  \n",
      "Fit time          1.51    1.54    1.61    1.69    1.64    1.60    0.06    \n",
      "Test time         3.02    2.65    2.96    2.83    3.37    2.97    0.24    \n",
      "Computing the msd similarity matrix...\n",
      "Done computing similarity matrix.\n",
      "Computing the msd similarity matrix...\n",
      "Done computing similarity matrix.\n",
      "Computing the msd similarity matrix...\n",
      "Done computing similarity matrix.\n",
      "Computing the msd similarity matrix...\n",
      "Done computing similarity matrix.\n",
      "Computing the msd similarity matrix...\n",
      "Done computing similarity matrix.\n",
      "Evaluating RMSE of algorithm KNNBasic on 5 split(s).\n",
      "\n",
      "                  Fold 1  Fold 2  Fold 3  Fold 4  Fold 5  Mean    Std     \n",
      "RMSE (testset)    0.9786  0.9761  0.9756  0.9780  0.9777  0.9772  0.0011  \n",
      "Fit time          0.65    0.67    0.58    0.52    0.55    0.59    0.06    \n",
      "Test time         4.15    3.54    3.08    2.98    3.00    3.35    0.45    \n",
      "Computing the pearson similarity matrix...\n",
      "Done computing similarity matrix.\n",
      "Computing the pearson similarity matrix...\n",
      "Done computing similarity matrix.\n",
      "Computing the pearson similarity matrix...\n",
      "Done computing similarity matrix.\n",
      "Computing the pearson similarity matrix...\n",
      "Done computing similarity matrix.\n",
      "Computing the pearson similarity matrix...\n",
      "Done computing similarity matrix.\n",
      "Evaluating RMSE of algorithm KNNBasic on 5 split(s).\n",
      "\n",
      "                  Fold 1  Fold 2  Fold 3  Fold 4  Fold 5  Mean    Std     \n",
      "RMSE (testset)    1.0194  1.0036  1.0168  1.0131  1.0170  1.0140  0.0056  \n",
      "Fit time          2.06    2.00    2.03    2.12    2.56    2.16    0.21    \n",
      "Test time         2.85    2.91    2.92    3.15    3.29    3.03    0.17    \n",
      "Evaluating RMSE of algorithm SVD on 5 split(s).\n",
      "\n",
      "                  Fold 1  Fold 2  Fold 3  Fold 4  Fold 5  Mean    Std     \n",
      "RMSE (testset)    0.9292  0.9398  0.9434  0.9387  0.9316  0.9365  0.0053  \n",
      "Fit time          5.03    4.50    4.39    4.39    4.49    4.56    0.24    \n",
      "Test time         0.13    0.19    0.14    0.13    0.21    0.16    0.04    \n"
     ]
    }
   ],
   "source": [
    "for [name, algo] in algorithms.items():\n",
    "    crv = cross_validate(algo, data, measures=['RMSE'], verbose=True)\n",
    "    RSMA[name] = round(crv['test_rmse'].mean(), 3)\n"
   ]
  },
  {
   "cell_type": "code",
   "execution_count": 5,
   "metadata": {},
   "outputs": [
    {
     "output_type": "stream",
     "name": "stdout",
     "text": [
      "{'NP': 1.517, 'KNN_cos': 1.019, 'KNN_MSD': 0.977, 'KNN_Pearson': 1.014, 'SVD': 0.937}\nSVD\n"
     ]
    }
   ],
   "source": [
    "# найдем лучший алгоритм\n",
    "print(RSMA)\n",
    "bestAlgoName = min(RSMA.items(), key=lambda x: x[1])[0]\n",
    "print(bestAlgoName)\n",
    "bestAlgo = algorithms[bestAlgoName]\n",
    "# и его предсказание\n",
    "bestAlgo.fit(trainset)\n",
    "predictions = bestAlgo.test(testset)"
   ]
  },
  {
   "cell_type": "code",
   "execution_count": 9,
   "metadata": {},
   "outputs": [
    {
     "output_type": "stream",
     "name": "stdout",
     "text": [
      "0.7389360197949812\n0.36699134575915177\n"
     ]
    }
   ],
   "source": [
    "# посчитаем метрики precision@k and recall@k для k=5 и порога отсечения 3.52\n",
    "# как хорошо, что умные люди уже все сделали за меня: https://github.com/NicolasHug/Surprise/blob/master/examples/precision_recall_at_k.py\n",
    "def precision_recall_at_k(predictions, k=10, threshold=3.5):\n",
    "    \"\"\"Return precision and recall at k metrics for each user\"\"\"\n",
    "\n",
    "    # First map the predictions to each user.\n",
    "    user_est_true = defaultdict(list)\n",
    "    for uid, _, true_r, est, _ in predictions:\n",
    "        user_est_true[uid].append((est, true_r))\n",
    "\n",
    "    precisions = dict()\n",
    "    recalls = dict()\n",
    "    for uid, user_ratings in user_est_true.items():\n",
    "\n",
    "        # Sort user ratings by estimated value\n",
    "        user_ratings.sort(key=lambda x: x[0], reverse=True)\n",
    "\n",
    "        # Number of relevant items\n",
    "        n_rel = sum((true_r >= threshold) for (_, true_r) in user_ratings)\n",
    "\n",
    "        # Number of recommended items in top k\n",
    "        n_rec_k = sum((est >= threshold) for (est, _) in user_ratings[:k])\n",
    "\n",
    "        # Number of relevant and recommended items in top k\n",
    "        n_rel_and_rec_k = sum(((true_r >= threshold) and (est >= threshold))\n",
    "                              for (est, true_r) in user_ratings[:k])\n",
    "\n",
    "        # Precision@K: Proportion of recommended items that are relevant\n",
    "        # When n_rec_k is 0, Precision is undefined. We here set it to 0.\n",
    "\n",
    "        precisions[uid] = n_rel_and_rec_k / n_rec_k if n_rec_k != 0 else 0\n",
    "\n",
    "        # Recall@K: Proportion of relevant items that are recommended\n",
    "        # When n_rel is 0, Recall is undefined. We here set it to 0.\n",
    "\n",
    "        recalls[uid] = n_rel_and_rec_k / n_rel if n_rel != 0 else 0\n",
    "\n",
    "    return precisions, recalls\n",
    "\n",
    "precisions, recalls = precision_recall_at_k(predictions, k=5, threshold=3.52)\n",
    "\n",
    "# усредняем по всем пользователям\n",
    "precision_at_k = sum(prec for prec in precisions.values()) / len(precisions)\n",
    "recall_at_k = sum(rec for rec in recalls.values()) / len(recalls)\n",
    "print(precision_at_k)\n",
    "print(recall_at_k)"
   ]
  },
  {
   "cell_type": "code",
   "execution_count": 10,
   "metadata": {},
   "outputs": [
    {
     "output_type": "execute_result",
     "data": {
      "text/plain": [
       "[Prediction(uid='23', iid='512', r_ui=5.0, est=4.512625178373093, details={'was_impossible': False}),\n",
       " Prediction(uid='23', iid='98', r_ui=5.0, est=4.455047919503794, details={'was_impossible': False}),\n",
       " Prediction(uid='23', iid='357', r_ui=3.0, est=4.4204486183683676, details={'was_impossible': False}),\n",
       " Prediction(uid='23', iid='427', r_ui=5.0, est=4.148467921061505, details={'was_impossible': False}),\n",
       " Prediction(uid='23', iid='124', r_ui=5.0, est=4.112627740945786, details={'was_impossible': False})]"
      ]
     },
     "metadata": {},
     "execution_count": 10
    }
   ],
   "source": [
    "USER_INDEX = '23'\n",
    "N = 5\n",
    "userPredictions = list(filter(lambda x: x.uid == USER_INDEX, predictions))\n",
    "top = sorted(userPredictions, key=lambda x: x.est, reverse=True)[0:N]\n",
    "top"
   ]
  },
  {
   "cell_type": "code",
   "execution_count": 11,
   "metadata": {},
   "outputs": [
    {
     "output_type": "stream",
     "name": "stdout",
     "text": [
      "['512', '98', '357', '427', '124']\n{'512': ('Third Man, The (1949)', '01-Jan-1949'), '98': ('Snow White and the Seven Dwarfs (1937)', '01-Jan-1937'), '357': ('Spawn (1997)', '01-Aug-1997'), '427': ('Harold and Maude (1971)', '01-Jan-1971'), '124': ('Phenomenon (1996)', '29-Jun-1996')}\n"
     ]
    }
   ],
   "source": [
    "# достаем инфу о фильмах из\n",
    "def getInfoForList(l):\n",
    "    print(l)\n",
    "    data_path = get_dataset_dir() + '/ml-100k/ml-100k/u.item'\n",
    "    info = {}\n",
    "    data = pd.read_csv(data_path, sep='|',encoding='ISO-8859-1', header = None) \n",
    "    for id in l:\n",
    "        row = data.iloc[int(id)]\n",
    "        info[id] = (row[1], row[2])\n",
    "\n",
    "    return info\n",
    "info = getInfoForList(list(map(lambda x: x.iid, top)))\n",
    "print(info)"
   ]
  },
  {
   "cell_type": "code",
   "execution_count": 12,
   "metadata": {},
   "outputs": [
    {
     "output_type": "stream",
     "name": "stdout",
     "text": [
      "User 23\n512, ('Third Man, The (1949)', '01-Jan-1949'), 4.513\n98, ('Snow White and the Seven Dwarfs (1937)', '01-Jan-1937'), 4.455\n357, ('Spawn (1997)', '01-Aug-1997'), 4.42\n427, ('Harold and Maude (1971)', '01-Jan-1971'), 4.148\n124, ('Phenomenon (1996)', '29-Jun-1996'), 4.113\n"
     ]
    }
   ],
   "source": [
    "# вывод результата\n",
    "print('User {}'.format(USER_INDEX))\n",
    "for pred in top:\n",
    "    print('{}, {}, {}'.format(pred.iid, info[pred.iid], round(pred.est, 3)))"
   ]
  },
  {
   "cell_type": "code",
   "execution_count": null,
   "metadata": {},
   "outputs": [],
   "source": []
  }
 ],
 "metadata": {
  "kernelspec": {
   "display_name": "Python 3",
   "language": "python",
   "name": "python3"
  },
  "language_info": {
   "codemirror_mode": {
    "name": "ipython",
    "version": 3
   },
   "file_extension": ".py",
   "mimetype": "text/x-python",
   "name": "python",
   "nbconvert_exporter": "python",
   "pygments_lexer": "ipython3",
   "version": "3.9.0-final"
  }
 },
 "nbformat": 4,
 "nbformat_minor": 2
}